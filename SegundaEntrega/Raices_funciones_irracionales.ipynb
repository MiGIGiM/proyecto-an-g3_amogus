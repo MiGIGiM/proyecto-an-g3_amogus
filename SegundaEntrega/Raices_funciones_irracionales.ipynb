{
 "cells": [
  {
   "cell_type": "markdown",
   "metadata": {},
   "source": [
    "# **Funciones irracionales**"
   ]
  },
  {
   "cell_type": "markdown",
   "metadata": {},
   "source": [
    "## Integrantes\n",
    "\n",
    "- Walter Rafael Morales Henriquez     \n",
    "  00019618\n",
    "\n",
    "- Fernando Miguel Rodriguez Gonzalez     \n",
    "  00211919\n",
    "\n",
    "- Bryan Salvador Flores Flores    \n",
    "  00063820\n",
    "  \n",
    "- Joaquin Ernesto Santos Acosta     \n",
    "  00159619"
   ]
  },
  {
   "cell_type": "markdown",
   "metadata": {},
   "source": [
    "# Método de Müller"
   ]
  },
  {
   "cell_type": "markdown",
   "metadata": {},
   "source": [
    "El método de Müller es una forma generalizada del método de la secante y consiste en obtener los coeficientes de la parábola que pasa por tres puntos. Dichos coeficientes se sustituyen en la fórmula cuadrática para obtener el valor donde la parábola corta al eje X, en otras palabras, la raiz estimada.\n",
    "\n",
    "El calculo de la raiz se facilita al escribir la ecuación de la parábola de esta forma:\n",
    "\n",
    "$f_2(x) = a(x-x_2)^2 + b(x-x_2) + c$\n",
    "\n",
    "Los coeficientes $ a, b$ y $c$ se obtienen a partir de las siguientes ecuaciones:\n"
   ]
  },
  {
   "cell_type": "markdown",
   "metadata": {},
   "source": [
    "$a= \\frac{\\delta_1 - \\delta_0}{h_1 - h_0}$, $b=ah_1+\\delta_1$ y $c=f(x_2)$"
   ]
  },
  {
   "cell_type": "markdown",
   "metadata": {},
   "source": [
    "Donde:\n",
    "$\\delta_0=\\frac{f(x_1)-f(x_0)}{x_1-x_0}$,\n",
    "$\\delta_1=\\frac{f(x_2)-f(x_1)}{x_2-x_1}$,\n",
    "$h_0=x_1-x_0$,\n",
    "$h_1=x_2-x_1$"
   ]
  },
  {
   "cell_type": "markdown",
   "metadata": {},
   "source": [
    "## Implementación\n",
    "Se desea encontrar la raiz de la siguiente función:\n",
    "$f(x)=x\\sqrt{x}+ 2x^2+10x-20$ con los valores iniciales: $x_0=4.5$, $x_1=5.5$ y $x_2=5$ y con una tolerancia de $10^{-4}$"
   ]
  },
  {
   "cell_type": "markdown",
   "metadata": {},
   "source": [
    "### Importando librerias a utilizar e inicializando variables\n",
    "Antes de iniciar a codificar el algoritmo, se importan todas las librerias que se necesitaran para la ejecución del mismo. Además, se inicializan las variables que se utilizaran para la tabulacion y graficacion de los resultados. Esto se hace de la siguiente forma:"
   ]
  },
  {
   "cell_type": "code",
   "execution_count": 51,
   "metadata": {},
   "outputs": [],
   "source": [
    "import math\n",
    "import pandas as pd\n",
    "import matplotlib.pyplot as plt\n",
    "import numpy as np\n",
    "\n",
    "# Preparando listados a usar en las tablas\n",
    "ListaXa = []\n",
    "ListaXb = []\n",
    "ListaXc = []\n",
    "ListaXr = []\n",
    "ListaErr = []\n",
    "ListaA = []\n",
    "ListaB = []\n",
    "ListaC = []"
   ]
  },
  {
   "cell_type": "markdown",
   "metadata": {},
   "source": [
    "Una vez definidas las variables e importadas las librerias necesarias, se inicia definiendo la funcion a utilizar."
   ]
  },
  {
   "cell_type": "code",
   "execution_count": 52,
   "metadata": {},
   "outputs": [],
   "source": [
    "# Definiendo funcion a utilizar\n",
    "def f(x):\n",
    "    return (x * math.sqrt(x) + 10 * x - 20)"
   ]
  },
  {
   "cell_type": "markdown",
   "metadata": {},
   "source": [
    "Ahora, definimos la función para ejecutar el metodo de Muller de la siguiente forma:"
   ]
  },
  {
   "cell_type": "markdown",
   "metadata": {},
   "source": [
    "**Recordando funcionamiento del metodo de Muller:**\n",
    "> El algoritmo recibe los 3 puntos inicales y a partir de estos se calculan las constantes a,b y c requeridas para la ecuacion de la parabola, la cual nos ayuda a encontrar la raiz estimada de la funcion. Una vez obtenida la raiz se confirma que el error absoluto es menor a la tolerancia, de lo contrario se realiza una nueva iteracion."
   ]
  },
  {
   "cell_type": "code",
   "execution_count": 53,
   "metadata": {},
   "outputs": [],
   "source": [
    "def Muller(x0, x1, x2):\n",
    "\n",
    "    res = 0\n",
    "\n",
    "    while (True):\n",
    "\n",
    "        # Calculando constantes\n",
    "        f1 = f(x0); f2 = f(x1); f3 = f(x2)\n",
    "        d1 = f1 - f3\n",
    "        d2 = f2 - f3\n",
    "        h1 = x0 - x2\n",
    "        h2 = x1 - x2\n",
    "        a0 = f3\n",
    "        a1 = (((d2 * pow(h1, 2)) -\n",
    "               (d1 * pow(h2, 2))) /\n",
    "              ((h1 * h2) * (h1 - h2)))\n",
    "        a2 = (((d1 * h2) - (d2 * h1)) /\n",
    "              ((h1 * h2) * (h1 - h2)))\n",
    "        x = ((-2 * a0) / (a1 +\n",
    "             abs(math.sqrt(a1 * a1 - 4 * a0 * a2))))\n",
    "        y = ((-2 * a0) / (a1 -\n",
    "            abs(math.sqrt(a1 * a1 - 4 * a0 * a2))))\n",
    "\n",
    "        # Tomando raiz mas cercana x0 x_2\n",
    "        if (x >= y):\n",
    "            res = x + x2\n",
    "        else:\n",
    "            res = y + x2\n",
    "            \n",
    "        \n",
    "\n",
    "        # Calculando error\n",
    "        err = abs(res - x2)\n",
    "\n",
    "        # Guardando datos en las listas\n",
    "        LlenarListas(x0,x1,x2,a0,a1,a2,res,err)\n",
    "\n",
    "        x0 = x1\n",
    "        x1 = x2\n",
    "        x2 = res\n",
    "\n",
    "        # Si el error es menor a 0.001, termina el algoritmo\n",
    "        if (err <= 0.0001):\n",
    "            print(\"La raiz es: \", round(res, 4))\n",
    "            break"
   ]
  },
  {
   "cell_type": "markdown",
   "metadata": {},
   "source": [
    "Una vez definida la función, se declaran funciones para llenar los listados anteriormente declarados asi como una funcion para tabular las mismas."
   ]
  },
  {
   "cell_type": "code",
   "execution_count": 54,
   "metadata": {},
   "outputs": [],
   "source": [
    "def LlenarListas(x0,x1,x2,a0,a1,a2,res,err):\n",
    "        ListaXa.append(x0)\n",
    "        ListaXb.append(x1)\n",
    "        ListaXc.append(x2)\n",
    "        ListaC.append(a0)\n",
    "        ListaA.append(a2)\n",
    "        ListaB.append(a1)\n",
    "        ListaXr.append(res)\n",
    "        ListaErr.append(err)\n",
    "\n",
    "def Table(ListaXa, ListaXb, ListaXc, ListaXr, ListaErr):\n",
    "    Table ={\n",
    "        \"x_a\": ListaXa,\n",
    "        \"x_b\": ListaXb,\n",
    "        \"x_c\": ListaXc,\n",
    "        \"a\": ListaA,\n",
    "        \"b\": ListaB,\n",
    "        \"c\": ListaC,\n",
    "        \"x_r\": ListaXr,\n",
    "        \"err\": ListaErr\n",
    "    }\n",
    "\n",
    "    df = pd.DataFrame(Table)\n",
    "    pd.set_option(\"display.precision\",4)\n",
    "    display(df)"
   ]
  },
  {
   "cell_type": "markdown",
   "metadata": {},
   "source": [
    "Una vez se tienen todas las funciones anteriores codificadas procedemos a ejecutar el algoritmo."
   ]
  },
  {
   "cell_type": "code",
   "execution_count": 55,
   "metadata": {},
   "outputs": [
    {
     "name": "stdout",
     "output_type": "stream",
     "text": [
      "La raiz es:  1.7654\n"
     ]
    }
   ],
   "source": [
    "# Inicializando los puntos\n",
    "x0 = 4.5\n",
    "x1 = 5.5\n",
    "x2 = 5\n",
    "\n",
    "# Se corre la funcion del metodo de muller entre el bloque try y except para mostrar un error en caso de que alguno de los calculos resulte en division entre cero.\n",
    "try: \n",
    "    Muller(x0, x1, x2)\n",
    "except ZeroDivisionError:\n",
    "    print(\"Error: Division por cero\")"
   ]
  },
  {
   "cell_type": "markdown",
   "metadata": {},
   "source": [
    "A continuación se muestra la tabla generada por la ejecucion del algoritmo:"
   ]
  },
  {
   "cell_type": "code",
   "execution_count": 56,
   "metadata": {},
   "outputs": [
    {
     "data": {
      "text/html": [
       "<div>\n",
       "<style scoped>\n",
       "    .dataframe tbody tr th:only-of-type {\n",
       "        vertical-align: middle;\n",
       "    }\n",
       "\n",
       "    .dataframe tbody tr th {\n",
       "        vertical-align: top;\n",
       "    }\n",
       "\n",
       "    .dataframe thead th {\n",
       "        text-align: right;\n",
       "    }\n",
       "</style>\n",
       "<table border=\"1\" class=\"dataframe\">\n",
       "  <thead>\n",
       "    <tr style=\"text-align: right;\">\n",
       "      <th></th>\n",
       "      <th>x_a</th>\n",
       "      <th>x_b</th>\n",
       "      <th>x_c</th>\n",
       "      <th>a</th>\n",
       "      <th>b</th>\n",
       "      <th>c</th>\n",
       "      <th>x_r</th>\n",
       "      <th>err</th>\n",
       "    </tr>\n",
       "  </thead>\n",
       "  <tbody>\n",
       "    <tr>\n",
       "      <th>0</th>\n",
       "      <td>4.5000</td>\n",
       "      <td>5.5000</td>\n",
       "      <td>5.0000</td>\n",
       "      <td>0.1678</td>\n",
       "      <td>13.3527</td>\n",
       "      <td>4.1180e+01</td>\n",
       "      <td>1.7861</td>\n",
       "      <td>3.2139e+00</td>\n",
       "    </tr>\n",
       "    <tr>\n",
       "      <th>1</th>\n",
       "      <td>5.5000</td>\n",
       "      <td>5.0000</td>\n",
       "      <td>1.7861</td>\n",
       "      <td>0.1886</td>\n",
       "      <td>12.1298</td>\n",
       "      <td>2.4859e-01</td>\n",
       "      <td>1.7656</td>\n",
       "      <td>2.0501e-02</td>\n",
       "    </tr>\n",
       "    <tr>\n",
       "      <th>2</th>\n",
       "      <td>5.0000</td>\n",
       "      <td>1.7861</td>\n",
       "      <td>1.7656</td>\n",
       "      <td>0.2279</td>\n",
       "      <td>11.9943</td>\n",
       "      <td>2.6031e-03</td>\n",
       "      <td>1.7654</td>\n",
       "      <td>2.1703e-04</td>\n",
       "    </tr>\n",
       "    <tr>\n",
       "      <th>3</th>\n",
       "      <td>1.7861</td>\n",
       "      <td>1.7656</td>\n",
       "      <td>1.7654</td>\n",
       "      <td>0.2817</td>\n",
       "      <td>11.9930</td>\n",
       "      <td>2.4182e-07</td>\n",
       "      <td>1.7654</td>\n",
       "      <td>2.0163e-08</td>\n",
       "    </tr>\n",
       "  </tbody>\n",
       "</table>\n",
       "</div>"
      ],
      "text/plain": [
       "      x_a     x_b     x_c       a        b           c     x_r         err\n",
       "0  4.5000  5.5000  5.0000  0.1678  13.3527  4.1180e+01  1.7861  3.2139e+00\n",
       "1  5.5000  5.0000  1.7861  0.1886  12.1298  2.4859e-01  1.7656  2.0501e-02\n",
       "2  5.0000  1.7861  1.7656  0.2279  11.9943  2.6031e-03  1.7654  2.1703e-04\n",
       "3  1.7861  1.7656  1.7654  0.2817  11.9930  2.4182e-07  1.7654  2.0163e-08"
      ]
     },
     "metadata": {},
     "output_type": "display_data"
    }
   ],
   "source": [
    "Table(ListaXa, ListaXb, ListaXc, ListaXr, ListaErr)"
   ]
  },
  {
   "cell_type": "markdown",
   "metadata": {},
   "source": [
    "Con los datos de la tabla anterior se puede generar el siguiente grafico para hacer los resultados obtenidos mas faciles de visualizar"
   ]
  },
  {
   "cell_type": "code",
   "execution_count": 57,
   "metadata": {},
   "outputs": [
    {
     "data": {
      "image/png": "[encoded data removed]",
      "text/plain": [
       "<Figure size 432x288 with 1 Axes>"
      ]
     },
     "metadata": {
      "needs_background": "light"
     },
     "output_type": "display_data"
    }
   ],
   "source": [
    "fx = lambda x: x * x**(1./2.) + 10 * x - 20\n",
    "\n",
    "def graf():\n",
    "    n=len(ListaXr)\n",
    "    raiz=ListaXr[n-1]\n",
    "    if not(n==0):\n",
    "        #eje x\n",
    "        dom = np.arange(min(x0,raiz)-1, max(x1,raiz)+1,10**-4)\n",
    "        range = [0 for xi in dom]\n",
    "        plt.plot(dom, range)\n",
    "\n",
    "        #eje y\n",
    "        range = np.arange(min(fx(x0),fx(x1))-15,max(fx(x0),fx(x1))+15,10**-4)\n",
    "        dom = [0 for xi in range]\n",
    "        plt.plot(dom, range)\n",
    "\n",
    "        plt.axis([min(x0,raiz)-1, max(x1,raiz)+1,-10,max(fx(x0),fx(x1))+15])\n",
    "\n",
    "        #Funcion\n",
    "        dom = np.arange(min(x0,raiz)-1, max(x1,raiz)+1,10**-4)\n",
    "        range = [fx(xi) for xi in dom]\n",
    "        plt.plot(dom, range, 'r')\n",
    "\n",
    "        i=0\n",
    "        #Dibujado de los puntos\n",
    "        while not(i==n):\n",
    "            #Se obtiene los puntos de la iteracion\n",
    "            p1=ListaXa[i]\n",
    "            p2=ListaXb[i]\n",
    "            p3=ListaXc[i]\n",
    "\n",
    "\n",
    "            #Puntos (a,0) y (b,0)\n",
    "            plt.plot(p1,fx(p1),'bo')\n",
    "            plt.plot(p2,fx(p2),'ro')\n",
    "            plt.plot(p3,fx(p3),'yo')\n",
    "            fx2 = lambda x: ListaA[i] * (x-p3)**2 + ListaB[i] * (x-p3) + ListaC[i]\n",
    "            #Funcion\n",
    "            dom = np.arange(min(x0,raiz)-1, max(x1,raiz)+1,10**-4)\n",
    "            range = [fx2(xi) for xi in dom]\n",
    "            if(i%2==0):\n",
    "                plt.plot(dom, range, 'b')\n",
    "            else:\n",
    "                plt.plot(dom, range, 'r')\n",
    "\n",
    "            i=i+1\n",
    "\n",
    "\n",
    "graf()"
   ]
  },
  {
   "cell_type": "markdown",
   "metadata": {},
   "source": [
    "Podemos observar que las funciones cuadraticas generadas por el metodo de Muller son casi identicas a la original, lo que nos da una mejor idea de su convergencia a la hora de encontrar raices de funciones irracionales. Y con la cantidad de iteraciones que se hicieron, se puede observar la alta eficiencia del metodo. "
   ]
  },
  {
   "cell_type": "markdown",
   "metadata": {},
   "source": [
    "# Regula falsi"
   ]
  },
  {
   "cell_type": "markdown",
   "metadata": {},
   "source": [
    "Sabemos que el método de falsa posición, o Regula falsi, es un caso alternativo al método de bisección, donde ya no encontramos la raíz a base de puntos medios entre los intervalos de $a$ y $b$, sino que los obtenemos a partir de una fórmula que nace de la visualización gráfica de los intervalos que encierran la raíz en nuestra función creando una línea recta entre los puntos $(a,f(a))$ y $(b,f(b))$, cuya intersección con el eje de las $x$ nos provee una mejor aproximación de la raíz.\n",
    " \n",
    "Entonces encontramos que, por medio de ciertos despejes, nuestra fórmula era la siguiente:\n",
    " \n",
    "$ x = b - \\frac{f(b)(a-b)}{f(a)-f(b)}$\n",
    " \n",
    "Con todo esto ya podemos empezar a aplicar el método de Regula Falsi a un código que nos permita encontrar las raíces de cualquier función irregular."
   ]
  },
  {
   "cell_type": "markdown",
   "metadata": {},
   "source": [
    "### **Implementación**"
   ]
  },
  {
   "cell_type": "markdown",
   "metadata": {},
   "source": [
    "Se desea encontrar la raíz de la siguiente función:\n",
    " \n",
    "$ x^{1/3}+4x^2-10 = 0$\n",
    " \n",
    "en el rango de $[1,2]$ con una tolerancia de 0.0001.\n",
    " \n",
    "Para abordar este problema se creará un código que funcionará con el algoritmo del método de falsa posición."
   ]
  },
  {
   "cell_type": "markdown",
   "metadata": {},
   "source": [
    "#### Definición de variables\n",
    " \n",
    "El primer paso sería definir el input de nuestra función, pues para poder trabajar con regula falsi se necesita de **la función que queremos evaluar** ( $f(x)=0$ ), **los puntos iniciales a utilizar**, y **la tolerancia mínima** que deseamos alcanzar. Es importante destacar que el algoritmo no puede funcionar si alguno de estos hace falta."
   ]
  },
  {
   "cell_type": "code",
   "execution_count": 58,
   "metadata": {},
   "outputs": [],
   "source": [
    "####### INGRESO #######\n",
    "\n",
    "#Funcion de la que deseamos encontrar la raiz\n",
    "fx = lambda x: x**(1/3) + 4*(x**2) -10\n",
    "\n",
    "#Puntos iniciales\n",
    "a = 1\n",
    "b = 2\n",
    "\n",
    "#Tolerancia de error\n",
    "tolera = 0.0001"
   ]
  },
  {
   "cell_type": "markdown",
   "metadata": {},
   "source": [
    "#### Cálculo del error absoluto\n",
    " \n",
    "Para que el algoritmo sepa cuando debe de parar, se debe comparar nuestra **tolerancia** con el **error absoluto** que se obtenga de cada iteración. Por esto mismo creamos una función que nos devuelva el **error absoluto** dado dos valores."
   ]
  },
  {
   "cell_type": "code",
   "execution_count": 59,
   "metadata": {},
   "outputs": [],
   "source": [
    "def err_abs(x2, x1):\n",
    "    return abs(x2 - x1)"
   ]
  },
  {
   "cell_type": "markdown",
   "metadata": {},
   "source": [
    "Donde el error absoluto es el valor absoluto de la resta del valor obtenido menos el valor inicial. El valor inicial dependerá del valor de c, pues este puede llegar a sustituir tanto a $a$ como a $b$ dependiendo quien se encuentre más cerca de la raíz."
   ]
  },
  {
   "cell_type": "markdown",
   "metadata": {},
   "source": [
    "#### Cálculo de C\n",
    " \n",
    "Se define una función que nos devolverá la siguiente aproximación de la raíz dado los puntos de la iteración en la que nos encontremos. Es en esta que se hará uso de la fórmula antes mencionada anteriormente."
   ]
  },
  {
   "cell_type": "code",
   "execution_count": 60,
   "metadata": {},
   "outputs": [],
   "source": [
    "def aprox(p1, p2):\n",
    "    #Calculo de las funciones evaluadas en a y b\n",
    "    fp1 = fx(p1)\n",
    "    fp2 = fx(p2)\n",
    "\n",
    "    #Calculo de c\n",
    "    c = p2 - fp2*(p1-p2)/(fp1-fp2)\n",
    "    return c"
   ]
  },
  {
   "cell_type": "markdown",
   "metadata": {},
   "source": [
    "#### Función Regula falsi\n",
    " \n",
    "La función, siguiente el algoritmo del método de falsa posición y haciendo uso de las funciones anteriores, sería la siguiente:"
   ]
  },
  {
   "cell_type": "code",
   "execution_count": 61,
   "metadata": {},
   "outputs": [],
   "source": [
    "import numpy as np\n",
    "\n",
    "def regulaFalsi(p1, p2,tolera,fx):\n",
    "    try:\n",
    "        ####### PROCEDIMIENTO #######\n",
    "\n",
    "        #Calculo del error absoluto inicial\n",
    "        tramo = err_abs(p1,p2)\n",
    "\n",
    "        #Confirmamos que el intervalo a evaluar sea valido\n",
    "        if(tramo<=tolera):\n",
    "            return \"no se puede encontrar raices para este intervalo\"\n",
    "\n",
    "        #Se confirma que se cumpla la tolerancia antes de entrar a una iteracion\n",
    "        while not(tramo<=tolera):\n",
    "\n",
    "            c=aprox(p1,p2)\n",
    "            fc = fx(c)\n",
    "\n",
    "            #si fc es 0 el procedimiento termina pues se a encontrado la raiz\n",
    "            if(fc==0):\n",
    "                return c\n",
    "            #Deduccion de la sustitucion de a o b con c\n",
    "            cambia = np.sign(fx(p1))*np.sign(fc)\n",
    "            if (cambia > 0):\n",
    "                #Se calcula el error en funcion de c y a\n",
    "                tramo = err_abs(c,p1)\n",
    "                #c se convierte en el nuevo p1\n",
    "                p1 = c\n",
    "            else:\n",
    "                #Se calcula el error en funcion de c y b\n",
    "                tramo = err_abs(p2,c)\n",
    "                #c se convierte en el nuevo p2\n",
    "                p2 = c\n",
    "            \n",
    "        return c\n",
    "    except ZeroDivisionError:\n",
    "        return \"no se puede encontrar raices para este intervalo\""
   ]
  },
  {
   "cell_type": "markdown",
   "metadata": {},
   "source": [
    "Podemos observar que antes de empezar con cualquier iteración confirmamos que el intervalo enviado sea válido, verificando que el error absoluto entre $p1$ y $p2$ no sea menor o igual a la tolerancia (que se traduce a que los puntos 1 y 2 no pueden ser iguales ni pueden estar excesivamente cerca); de esta manera evitamos cualquier tipo de error relacionado con los puntos iniciales.\n",
    " \n",
    "Una vez confirmado que los puntos iniciales sean válidos, se procede a entrar a la primera iteración donde se hace la llamada a nuestra función $aprox$ que nos devolverá nuestra primera aproximación a la raíz. Después de esto, se busca el valor con el que se intercambiara $c$ ($a$ o $b$) haciendo una multiplicación de los signos de $f(p1)$ y $f(c)$, donde si el resultado es mayor a 0, $c$ pasa a ser el nuevo $p1$ y caso contrario $c$ pasa a ser el nuevo $p2$, antes de esta sustitución se calcula el error absoluto de c con el valor que sustituye.\n",
    " \n",
    "De esta manera termina una iteración y vuelve a comenzar el ciclo while hasta que se cumpla con la tolerancia, en cuyo caso se retornará el valor final de c y terminará la función.\n",
    "\n",
    "Es importante destacar el uso de un try catch que encierra todo nuestro código, pues al trabajar con funciones irracionales, debemos tener en cuenta que habrá casos en los que ciertos valores rompan nuestro código, principalmente las divisiones entre 0, y de esta manera evitamos que esta clase de errores lleguen a afectar el funcionamiento de nuestro programa."
   ]
  },
  {
   "cell_type": "code",
   "execution_count": 62,
   "metadata": {},
   "outputs": [
    {
     "name": "stdout",
     "output_type": "stream",
     "text": [
      "- La raiz obtenida fue:  1.4881407353505989\n"
     ]
    }
   ],
   "source": [
    "####### SALIDA #######\n",
    "raiz = regulaFalsi(a,b,tolera,fx)\n",
    "print('- La raiz obtenida fue: ',raiz)\n"
   ]
  },
  {
   "cell_type": "markdown",
   "metadata": {},
   "source": [
    "Lo último que queda es llamar la función, enviando los valores definidos en el primer paso. Si no hemos enviado ningún intervalo inválido, la función nos devolverá la raíz de la función, que para el caso de 1 y 2 en la función $ x^{1/3}+4x^2-10 = 0$ es 1.4881407353505989."
   ]
  },
  {
   "cell_type": "markdown",
   "metadata": {},
   "source": [
    "### **Visualizacion del proceso**"
   ]
  },
  {
   "cell_type": "markdown",
   "metadata": {},
   "source": [
    "Aunque es definitivamente útil encontrar la raíz de cualquier ecuación irracional, con el código actual el usuario se encuentra ajeno  a cualquier tipo de proceso que no sea la respuesta; por ello se codificaran las gráficas y tablas que ayuden a una mejor comprensión del proceso que conlleva el método."
   ]
  },
  {
   "cell_type": "markdown",
   "metadata": {},
   "source": [
    "#### Gráfica\n",
    " \n",
    "Para la función anterior también podemos diseñar un código que nos permita visualizar el proceso del método para encontrar la raíz. Para ello debemos hacer unos cuantos cambios al código que ya teníamos, en la forma de dos listas que llevarán el control de los puntos $a$ y $b$ a lo largo de las iteraciones y un contador para saber el total de iteraciones realizadas durante la ejecución del programa."
   ]
  },
  {
   "cell_type": "code",
   "execution_count": 63,
   "metadata": {},
   "outputs": [
    {
     "name": "stdout",
     "output_type": "stream",
     "text": [
      "- La raiz obtenida fue:  1.4881407353505989\n"
     ]
    }
   ],
   "source": [
    "#Listas de puntos a y b\n",
    "listA =[]\n",
    "listB =[]\n",
    "\n",
    "def regulaFalsi(p1, p2,tolera,fx):\n",
    "    try:\n",
    "        listA.clear\n",
    "        listB.clear\n",
    "        #Contador de iteraciones\n",
    "        i=0\n",
    "        tramo = err_abs(p1,p2)\n",
    "\n",
    "        if(tramo<=tolera):\n",
    "            return \"no se puede encontrar raices para este intervalo\",i\n",
    "\n",
    "        while not(tramo<=tolera):\n",
    "            listA.append(p1)\n",
    "            listB.append(p2)\n",
    "            #Se aumenta el numero de iteracion\n",
    "            i=i+1\n",
    "            c=aprox(p1,p2)\n",
    "            fc = fx(c)\n",
    "            \n",
    "            if(fc==0):\n",
    "                return c\n",
    "            cambia = np.sign(fx(p1))*np.sign(fc)\n",
    "            if (cambia > 0):\n",
    "                tramo = err_abs(c,p1)\n",
    "                p1 = c\n",
    "            else:\n",
    "                tramo = err_abs(p2,c)\n",
    "                p2 = c\n",
    "            \n",
    "        return c,i\n",
    "    except ZeroDivisionError:\n",
    "        return \"no se puede encontrar raices para este intervalo\",i\n",
    "\n",
    "####### SALIDA #######\n",
    "raiz = regulaFalsi(a,b,tolera,fx)\n",
    "print('- La raiz obtenida fue: ',raiz[0])"
   ]
  },
  {
   "cell_type": "code",
   "execution_count": 67,
   "metadata": {},
   "outputs": [
    {
     "data": {
      "image/png": "[encoded data removed]",
      "text/plain": [
       "<Figure size 432x288 with 1 Axes>"
      ]
     },
     "metadata": {
      "needs_background": "light"
     },
     "output_type": "display_data"
    }
   ],
   "source": [
    "import matplotlib.pyplot as plt\n",
    "\n",
    "def graf():\n",
    "    #eje x\n",
    "    dom = np.arange(min(a,raiz[0])-1, max(b,raiz[0])+1,10**-5)\n",
    "    range = [0.1 for xi in dom]\n",
    "    plt.plot(dom, range)\n",
    "\n",
    "    #eje y\n",
    "    range = np.arange(min(fx(a),fx(b))-10, max(fx(a),fx(b))+10,10**-5)\n",
    "    dom = [0.1 for xi in range]\n",
    "    plt.plot(dom, range, 'r')\n",
    "\n",
    "    plt.axis([min(a,raiz[0])-1, max(b,raiz[0])+1, min(fx(a),fx(b))-10, max(fx(a),fx(b))+10])\n",
    "\n",
    "    #Funcion\n",
    "    dom = np.arange(0.1,5,10**-5)\n",
    "    range = [fx(xi) for xi in dom]\n",
    "    plt.plot(dom, range, 'r')\n",
    "\n",
    "    i=0\n",
    "    #Dibujado de los puntos\n",
    "    while not(i==raiz[1]):\n",
    "        #Se obtiene los puntos de la iteracion\n",
    "        p1=listA[i]\n",
    "        p2=listB[i]\n",
    "\n",
    "\n",
    "        #Puntos (a,0) y (b,0)\n",
    "        plt.plot(p1,0,'ro')\n",
    "        plt.plot(p2,0,'ro')\n",
    "\n",
    "        #Puntos (a,f(a)) y (b,f(b))\n",
    "        plt.plot(p1,fx(p1),'ro')\n",
    "        plt.plot(p2,fx(p2),'ro')\n",
    "\n",
    "        #Linea entre los puntos (a,f(a)) y (b,f(b))\n",
    "        plt.plot([p1,p2],[fx(p1),fx(p2)])\n",
    "        i=i+1\n",
    "\n",
    "    #raiz\n",
    "    plt.plot(raiz[0],0,'bo')\n",
    "    plt.show()\n",
    "\n",
    "graf()"
   ]
  },
  {
   "cell_type": "markdown",
   "metadata": {},
   "source": [
    "Haciendo uso de las listas, y por medio de un while, se dibujan todos los puntos y las líneas rectas entre los mismos que nos ayudan a encontrar la raíz de la función, de manera que podemos visualizar de mejor manera como trabaja el método de falsa posición. También podemos observar el resultado final (la raíz) representada por el punto azul."
   ]
  },
  {
   "cell_type": "markdown",
   "metadata": {},
   "source": [
    "#### Tablas\n",
    " \n",
    "Otro recurso que podemos crear para la mejor visualización de las iteraciones de regula falsi son las tablas, en donde podemos mostrar los valores de $a$, $b$, $c$ y el error absoluto en cada una de las iteraciones.\n",
    " \n",
    "Para ello crearemos nuevas listas que nos ayuden a guardar los valores de $c$ y el error, así como también para ir guardando los valores de $f(a)$, $f(b)$ y $f(c)$; estos últimos para una mejor visualización del intercambio de $c$ con $a$ o $b$"
   ]
  },
  {
   "cell_type": "code",
   "execution_count": 15,
   "metadata": {},
   "outputs": [
    {
     "name": "stdout",
     "output_type": "stream",
     "text": [
      "- La raiz obtenida fue:  1.4881407353505989\n"
     ]
    }
   ],
   "source": [
    "#Listas de puntos a y b\n",
    "listA =[]\n",
    "listB =[]\n",
    "\n",
    "#Lista de raices c\n",
    "listC =[]\n",
    "\n",
    "#Listas para f(a), f(b), f(c)\n",
    "listFa=[]\n",
    "listFb=[]\n",
    "listFc=[]\n",
    "\n",
    "#Lista de error absoluto\n",
    "listErr=[]\n",
    "\n",
    "def regulaFalsi(p1, p2,tolera,fx):\n",
    "    try:\n",
    "        listA.clear\n",
    "        listB.clear\n",
    "        listC.clear\n",
    "        listFa.clear\n",
    "        listFb.clear\n",
    "        listFc.clear\n",
    "        listErr.clear\n",
    "        i=0\n",
    "        tramo = err_abs(p1,p2)\n",
    "\n",
    "        if(tramo<=tolera):\n",
    "            return \"no se puede encontrar raices para este intervalo\",i\n",
    "\n",
    "        while not(tramo<=tolera):\n",
    "            #Se aumenta el numero de iteracion\n",
    "            i=i+1\n",
    "            c=aprox(p1,p2)\n",
    "            fc = fx(c)\n",
    "            #Se añaden los datos a las listas\n",
    "            listA.append(p1)\n",
    "            listB.append(p2)\n",
    "            listFa.append(fx(p1))\n",
    "            listFb.append(fx(p2))\n",
    "            listErr.append(tramo)\n",
    "            listC.append(c)\n",
    "            listFc.append(fx(c))\n",
    "\n",
    "            if(fc==0):\n",
    "                return c\n",
    "\n",
    "            cambia = np.sign(fx(p1))*np.sign(fc)\n",
    "            if (cambia > 0):\n",
    "                tramo = err_abs(c,p1)\n",
    "                p1 = c\n",
    "            else:\n",
    "                tramo = err_abs(p2,c)\n",
    "                p2 = c\n",
    "            \n",
    "        return c,i\n",
    "    except ZeroDivisionError:\n",
    "        return \"no se puede encontrar raices para este intervalo\",i\n",
    "\n",
    "####### SALIDA #######\n",
    "raiz = regulaFalsi(a,b,tolera,fx)\n",
    "print('- La raiz obtenida fue: ',raiz[0])"
   ]
  },
  {
   "cell_type": "markdown",
   "metadata": {},
   "source": [
    "Con estos cambios podemos crear un objeto json que contendrá las listas creadas y que servirá como la fuente de datos para la tabla que deseamos crear."
   ]
  },
  {
   "cell_type": "code",
   "execution_count": 16,
   "metadata": {},
   "outputs": [
    {
     "name": "stdout",
     "output_type": "stream",
     "text": [
      "\n",
      " Tabla: \n",
      "\n"
     ]
    },
    {
     "data": {
      "text/html": [
       "<div>\n",
       "<style scoped>\n",
       "    .dataframe tbody tr th:only-of-type {\n",
       "        vertical-align: middle;\n",
       "    }\n",
       "\n",
       "    .dataframe tbody tr th {\n",
       "        vertical-align: top;\n",
       "    }\n",
       "\n",
       "    .dataframe thead th {\n",
       "        text-align: right;\n",
       "    }\n",
       "</style>\n",
       "<table border=\"1\" class=\"dataframe\">\n",
       "  <thead>\n",
       "    <tr style=\"text-align: right;\">\n",
       "      <th></th>\n",
       "      <th>a</th>\n",
       "      <th>b</th>\n",
       "      <th>fa</th>\n",
       "      <th>fb</th>\n",
       "      <th>c</th>\n",
       "      <th>fc</th>\n",
       "      <th>err</th>\n",
       "    </tr>\n",
       "  </thead>\n",
       "  <tbody>\n",
       "    <tr>\n",
       "      <th>0</th>\n",
       "      <td>1.00000</td>\n",
       "      <td>2</td>\n",
       "      <td>-5.00000</td>\n",
       "      <td>7.25992</td>\n",
       "      <td>1.40783</td>\n",
       "      <td>-0.95125</td>\n",
       "      <td>1.00000</td>\n",
       "    </tr>\n",
       "    <tr>\n",
       "      <th>1</th>\n",
       "      <td>1.40783</td>\n",
       "      <td>2</td>\n",
       "      <td>-0.95125</td>\n",
       "      <td>7.25992</td>\n",
       "      <td>1.47643</td>\n",
       "      <td>-0.14187</td>\n",
       "      <td>0.40783</td>\n",
       "    </tr>\n",
       "    <tr>\n",
       "      <th>2</th>\n",
       "      <td>1.47643</td>\n",
       "      <td>2</td>\n",
       "      <td>-0.14187</td>\n",
       "      <td>7.25992</td>\n",
       "      <td>1.48647</td>\n",
       "      <td>-0.02036</td>\n",
       "      <td>0.06860</td>\n",
       "    </tr>\n",
       "    <tr>\n",
       "      <th>3</th>\n",
       "      <td>1.48647</td>\n",
       "      <td>2</td>\n",
       "      <td>-0.02036</td>\n",
       "      <td>7.25992</td>\n",
       "      <td>1.48791</td>\n",
       "      <td>-0.00291</td>\n",
       "      <td>0.01004</td>\n",
       "    </tr>\n",
       "    <tr>\n",
       "      <th>4</th>\n",
       "      <td>1.48791</td>\n",
       "      <td>2</td>\n",
       "      <td>-0.00291</td>\n",
       "      <td>7.25992</td>\n",
       "      <td>1.48811</td>\n",
       "      <td>-0.00041</td>\n",
       "      <td>0.00144</td>\n",
       "    </tr>\n",
       "    <tr>\n",
       "      <th>5</th>\n",
       "      <td>1.48811</td>\n",
       "      <td>2</td>\n",
       "      <td>-0.00041</td>\n",
       "      <td>7.25992</td>\n",
       "      <td>1.48814</td>\n",
       "      <td>-0.00006</td>\n",
       "      <td>0.00020</td>\n",
       "    </tr>\n",
       "  </tbody>\n",
       "</table>\n",
       "</div>"
      ],
      "text/plain": [
       "         a  b       fa       fb        c       fc      err\n",
       "0  1.00000  2 -5.00000  7.25992  1.40783 -0.95125  1.00000\n",
       "1  1.40783  2 -0.95125  7.25992  1.47643 -0.14187  0.40783\n",
       "2  1.47643  2 -0.14187  7.25992  1.48647 -0.02036  0.06860\n",
       "3  1.48647  2 -0.02036  7.25992  1.48791 -0.00291  0.01004\n",
       "4  1.48791  2 -0.00291  7.25992  1.48811 -0.00041  0.00144\n",
       "5  1.48811  2 -0.00041  7.25992  1.48814 -0.00006  0.00020"
      ]
     },
     "metadata": {},
     "output_type": "display_data"
    }
   ],
   "source": [
    "import pandas as pd\n",
    "\n",
    "Table ={\n",
    "    \"a\": listA,\n",
    "    \"b\": listB,\n",
    "    \"fa\": listFa,\n",
    "    \"fb\": listFb,\n",
    "    \"c\": listC,\n",
    "    \"fc\": listFc,\n",
    "    \"err\": listErr\n",
    "}\n",
    "\n",
    "df = pd.DataFrame(Table)\n",
    "print(\"\\n Tabla: \\n\")\n",
    "pd.set_option(\"display.precision\",5)\n",
    "display(df)"
   ]
  },
  {
   "cell_type": "markdown",
   "metadata": {},
   "source": [
    "# Newton en C"
   ]
  },
  {
   "cell_type": "markdown",
   "metadata": {},
   "source": [
    "Con este código, ahora somos capaces de crear y mostrar tablas con los datos de cada iteración de regula falsi y de esta manera tener una mejor comprensión del proceso realizado por nuestro código y algoritmo en general."
   ]
  },
  {
   "cell_type": "markdown",
   "metadata": {},
   "source": [
    "Recordando que el método de Newton Raphson es un caso particular del método de Iteración de Punto Fijo (IPF), y para hacer uso de él necesitamos un valor inicial que consideraremos como $z_0$, la función a analizar $f(z)$, y la derivada de dicha función $f'(z)$\n",
    "\n",
    "Luego de haber realizado la deducción de Newton se obtuvo la siguiente fórmula a utilizar: \n",
    "\n",
    "$ x_n = x_{n-1} - \\frac{f(x_{n-1})}{f'(x_{n-1})} $\n",
    "\n",
    "Sustiyendo $x$ por $z$\n",
    "\n",
    "$ z_n = z_{n-1} - \\frac{f(z_{n-1})}{f'(z_{n-1})} $\n",
    "\n",
    "Con la fórmula presentada anteriormente se procede a codificar el método de Newton Raphson, con el cual encontraremos raíces de funciones irracionales en los complejos $\\mathbb{C}$"
   ]
  },
  {
   "cell_type": "markdown",
   "metadata": {},
   "source": [
    "### Implementación del Método"
   ]
  },
  {
   "cell_type": "markdown",
   "metadata": {},
   "source": [
    "Utilizar el método de Newton para aproximar el valor de la raíz de la función $f(z) = \\sqrt[3]{z} + z^7$ con un valor inicial $z_0 = 2 + 2j$ y una tolerancia de $10^{-9}$"
   ]
  },
  {
   "cell_type": "markdown",
   "metadata": {},
   "source": [
    "##### Importando libreria necesaria"
   ]
  },
  {
   "cell_type": "code",
   "execution_count": 17,
   "metadata": {},
   "outputs": [],
   "source": [
    "from sympy import *"
   ]
  },
  {
   "cell_type": "markdown",
   "metadata": {},
   "source": [
    "##### Simbolizando la variable a utilizar $z$"
   ]
  },
  {
   "cell_type": "code",
   "execution_count": 18,
   "metadata": {},
   "outputs": [],
   "source": [
    "z = Symbol(\"z\")"
   ]
  },
  {
   "cell_type": "markdown",
   "metadata": {},
   "source": [
    "##### Función a analizar"
   ]
  },
  {
   "cell_type": "code",
   "execution_count": 19,
   "metadata": {},
   "outputs": [],
   "source": [
    "f = (z)**(1/3) + z**7"
   ]
  },
  {
   "cell_type": "markdown",
   "metadata": {},
   "source": [
    "Se procede a mostrar la función $f$"
   ]
  },
  {
   "cell_type": "code",
   "execution_count": 20,
   "metadata": {},
   "outputs": [
    {
     "data": {
      "text/latex": [
       "$\\displaystyle z^{0.333333333333333} + z^{7}$"
      ],
      "text/plain": [
       "z**0.333333333333333 + z**7"
      ]
     },
     "execution_count": 20,
     "metadata": {},
     "output_type": "execute_result"
    }
   ],
   "source": [
    "f"
   ]
  },
  {
   "cell_type": "markdown",
   "metadata": {},
   "source": [
    "##### Derivada de la función a analizar"
   ]
  },
  {
   "cell_type": "code",
   "execution_count": 21,
   "metadata": {},
   "outputs": [],
   "source": [
    "fprime = f.diff(z)"
   ]
  },
  {
   "cell_type": "markdown",
   "metadata": {},
   "source": [
    "Se procede a mostrar la derivada de la función $f'$"
   ]
  },
  {
   "cell_type": "code",
   "execution_count": 22,
   "metadata": {},
   "outputs": [
    {
     "data": {
      "text/latex": [
       "$\\displaystyle \\frac{0.333333333333333}{z^{0.666666666666667}} + 7 z^{6}$"
      ],
      "text/plain": [
       "0.333333333333333/z**0.666666666666667 + 7*z**6"
      ]
     },
     "execution_count": 22,
     "metadata": {},
     "output_type": "execute_result"
    }
   ],
   "source": [
    "fprime"
   ]
  },
  {
   "cell_type": "markdown",
   "metadata": {},
   "source": [
    "##### Lambdificando funciones"
   ]
  },
  {
   "cell_type": "code",
   "execution_count": 23,
   "metadata": {},
   "outputs": [],
   "source": [
    "f = lambdify(z, f)\n",
    "fprime = lambdify(z, fprime)"
   ]
  },
  {
   "cell_type": "markdown",
   "metadata": {},
   "source": [
    "##### Tolerancia"
   ]
  },
  {
   "cell_type": "code",
   "execution_count": 24,
   "metadata": {},
   "outputs": [],
   "source": [
    "TOL = 10**(-9)"
   ]
  },
  {
   "cell_type": "markdown",
   "metadata": {},
   "source": [
    "##### Punto inicial "
   ]
  },
  {
   "cell_type": "code",
   "execution_count": 25,
   "metadata": {},
   "outputs": [],
   "source": [
    "z0 = 2 + 2j"
   ]
  },
  {
   "cell_type": "markdown",
   "metadata": {},
   "source": [
    "### Cálculo del Error Absoluto\n",
    "\n",
    "El error absoluto será analizado en cada iteración lo que nos permitirá detenernos cuando el error sea menor al valor de la tolerancia brindada por el usuario."
   ]
  },
  {
   "cell_type": "code",
   "execution_count": 26,
   "metadata": {},
   "outputs": [],
   "source": [
    "def err_abs(x2, x1):\n",
    "    return abs(x2 - x1)"
   ]
  },
  {
   "cell_type": "markdown",
   "metadata": {},
   "source": [
    "### Función para almacenar datos en un tabla"
   ]
  },
  {
   "cell_type": "markdown",
   "metadata": {},
   "source": [
    "Antes de crear la función para almacenar datos en la tabla, es necesario definir la tabla como un diccionario, donde cada elemento definido va a corresponder a una columna de la tabla.\n",
    "\n",
    "La libreria pandas se importa para ser usado posteriormente al momento de mostrar dicha tabla."
   ]
  },
  {
   "cell_type": "code",
   "execution_count": 27,
   "metadata": {},
   "outputs": [],
   "source": [
    "import pandas as pd\n",
    "pd.set_option(\"display.precision\", 6)\n",
    "\n",
    "table = {\n",
    "        \"z_n\": [],\n",
    "        \"f(z_n)\": [],\n",
    "        \"df(z_n)\": [],\n",
    "        \"z_(n+1)\": [],\n",
    "        \"Error\": [],\n",
    "}"
   ]
  },
  {
   "cell_type": "markdown",
   "metadata": {},
   "source": [
    "Se procede a la creación de la función que recibirá como argumento el punto inicial $z_0$, el punto siguiente $z$, la función evaluada en el punto inicial $f(z_0)$, la derivada evaluada en el valor inicial $f'(z_0)$, y finalmente el error absoluto de la iteración siguiente menos la iteración anterior."
   ]
  },
  {
   "cell_type": "code",
   "execution_count": 28,
   "metadata": {},
   "outputs": [],
   "source": [
    "def add_table_info(z0, z, fzo, fpzo, error):\n",
    "    \n",
    "    table[\"z_n\"].append(z0)\n",
    "    table[\"f(z_n)\"].append(fzo)\n",
    "    table[\"df(z_n)\"].append(fpzo)\n",
    "    table[\"z_(n+1)\"].append(z)\n",
    "    table[\"Error\"].append(error)"
   ]
  },
  {
   "cell_type": "markdown",
   "metadata": {},
   "source": [
    "### Función para el Método de Newton Raphson"
   ]
  },
  {
   "cell_type": "markdown",
   "metadata": {},
   "source": [
    "Se define la función que se encargará de iterar el Método de Newton Raphson, recibe como argumento el punto inicial $z_0$, la función $f(z)$, la derivada de la función $f'(z)$ y el número máximo de iteraciones $n_{max}$.\n",
    "\n",
    "Dicha función se encarga de verificar que la derivada evaluada en el punto inicial sea diferente de $0$, si es así se continua con el método. Dentro de la función se va calculando el error absoluto en cada iteración y se añaden los datos a la tabla, tabla que posteriormente será mostrada.\n",
    "\n",
    "El bucle se detiene si el $error$ es menor que la $TOL$ brindada por el usuario, si se alcanzó el número máximo de iteraciones o si derivada evaluada en el punto $z$ es igual a $0$.\n",
    "\n",
    "Finalmente, se muestra el valor de la raíz encontrada y se retorna la tabla."
   ]
  },
  {
   "cell_type": "code",
   "execution_count": 29,
   "metadata": {},
   "outputs": [],
   "source": [
    "root = 0\n",
    "def newton(z0, f, fprime, n_max):\n",
    "    \n",
    "    i = 0\n",
    "\n",
    "    if fprime(z0) != 0:\n",
    "        \n",
    "        while True:\n",
    "            \n",
    "            z = z0 - f(z0)/fprime(z0)\n",
    "            error = err_abs(z0, z)\n",
    "            add_table_info(z0, z, f(z0), fprime(z0), error)\n",
    "            \n",
    "            if error < TOL or i + 1 == n_max or fprime(z) == 0:\n",
    "                break\n",
    "            \n",
    "            z0 = z\n",
    "            i += 1\n",
    "            global root \n",
    "            root = z0\n",
    "            \n",
    "        print(\"La raíz es: \", z0)\n",
    "        return table"
   ]
  },
  {
   "cell_type": "markdown",
   "metadata": {},
   "source": [
    "Se almacena el resultado de la función \"newton\" a la cual se le envian los argumentos necesarios para su funcionamiento."
   ]
  },
  {
   "cell_type": "code",
   "execution_count": 30,
   "metadata": {},
   "outputs": [
    {
     "name": "stdout",
     "output_type": "stream",
     "text": [
      "La raíz es:  (0.8910065241883679+0.4539904997395467j)\n"
     ]
    }
   ],
   "source": [
    "result = newton(z0, f, fprime, 100)"
   ]
  },
  {
   "cell_type": "markdown",
   "metadata": {},
   "source": [
    "Si hubo algun resultado se procede a mostrar la tabulación generada por el método de Newton"
   ]
  },
  {
   "cell_type": "code",
   "execution_count": 31,
   "metadata": {},
   "outputs": [
    {
     "data": {
      "text/html": [
       "<div>\n",
       "<style scoped>\n",
       "    .dataframe tbody tr th:only-of-type {\n",
       "        vertical-align: middle;\n",
       "    }\n",
       "\n",
       "    .dataframe tbody tr th {\n",
       "        vertical-align: top;\n",
       "    }\n",
       "\n",
       "    .dataframe thead th {\n",
       "        text-align: right;\n",
       "    }\n",
       "</style>\n",
       "<table border=\"1\" class=\"dataframe\">\n",
       "  <thead>\n",
       "    <tr style=\"text-align: right;\">\n",
       "      <th></th>\n",
       "      <th>z_n</th>\n",
       "      <th>f(z_n)</th>\n",
       "      <th>df(z_n)</th>\n",
       "      <th>z_(n+1)</th>\n",
       "      <th>Error</th>\n",
       "    </tr>\n",
       "  </thead>\n",
       "  <tbody>\n",
       "    <tr>\n",
       "      <th>0</th>\n",
       "      <td>2.000000+2.000000j</td>\n",
       "      <td>1.025366e+03-1.023634e+03j</td>\n",
       "      <td>0.144338-3584.083333j</td>\n",
       "      <td>1.714383+1.713923j</td>\n",
       "      <td>4.042491e-01</td>\n",
       "    </tr>\n",
       "    <tr>\n",
       "      <th>1</th>\n",
       "      <td>1.714383+1.713923j</td>\n",
       "      <td>3.488564e+02-3.478650e+02j</td>\n",
       "      <td>-0.984324-1420.736040j</td>\n",
       "      <td>1.469705+1.468207j</td>\n",
       "      <td>3.467617e-01</td>\n",
       "    </tr>\n",
       "    <tr>\n",
       "      <th>2</th>\n",
       "      <td>1.469705+1.468207j</td>\n",
       "      <td>1.188837e+02-1.181638e+02j</td>\n",
       "      <td>-1.543747-562.752908j</td>\n",
       "      <td>1.260311+1.256379j</td>\n",
       "      <td>2.978538e-01</td>\n",
       "    </tr>\n",
       "    <tr>\n",
       "      <th>3</th>\n",
       "      <td>1.260311+1.256379j</td>\n",
       "      <td>4.069726e+01-4.008780e+01j</td>\n",
       "      <td>-1.887641-222.429122j</td>\n",
       "      <td>1.081649+1.071895j</td>\n",
       "      <td>2.568154e-01</td>\n",
       "    </tr>\n",
       "    <tr>\n",
       "      <th>4</th>\n",
       "      <td>1.081649+1.071895j</td>\n",
       "      <td>1.410663e+01-1.355010e+01j</td>\n",
       "      <td>-2.153414-087.3817440j</td>\n",
       "      <td>0.930652+0.906737j</td>\n",
       "      <td>2.237800e-01</td>\n",
       "    </tr>\n",
       "    <tr>\n",
       "      <th>5</th>\n",
       "      <td>0.930652+0.906737j</td>\n",
       "      <td>5.055927e+00-4.527299e+00j</td>\n",
       "      <td>-2.384081-033.7201230j</td>\n",
       "      <td>0.807607+0.748100j</td>\n",
       "      <td>2.007634e-01</td>\n",
       "    </tr>\n",
       "    <tr>\n",
       "      <th>6</th>\n",
       "      <td>0.807607+0.748100j</td>\n",
       "      <td>1.970461e+00-1.448009e+00j</td>\n",
       "      <td>-2.558313-012.2818850j</td>\n",
       "      <td>0.726641+0.570798j</td>\n",
       "      <td>1.949137e-01</td>\n",
       "    </tr>\n",
       "    <tr>\n",
       "      <th>7</th>\n",
       "      <td>0.726641+0.570798j</td>\n",
       "      <td>9.205619e-01-3.599735e-01j</td>\n",
       "      <td>-2.5466620-3.4344270j</td>\n",
       "      <td>0.787254+0.347704j</td>\n",
       "      <td>2.311816e-01</td>\n",
       "    </tr>\n",
       "    <tr>\n",
       "      <th>8</th>\n",
       "      <td>0.787254+0.347704j</td>\n",
       "      <td>6.016138e-01+2.112604e-01j</td>\n",
       "      <td>-1.9164760+1.6117800j</td>\n",
       "      <td>0.916820+0.566905j</td>\n",
       "      <td>2.546298e-01</td>\n",
       "    </tr>\n",
       "    <tr>\n",
       "      <th>9</th>\n",
       "      <td>0.916820+0.566905j</td>\n",
       "      <td>-2.465603e-01-9.457203e-01j</td>\n",
       "      <td>-10.5057550-2.0930530j</td>\n",
       "      <td>0.876997+0.484819j</td>\n",
       "      <td>9.123526e-02</td>\n",
       "    </tr>\n",
       "    <tr>\n",
       "      <th>10</th>\n",
       "      <td>0.876997+0.484819j</td>\n",
       "      <td>4.938838e-02-2.213347e-01j</td>\n",
       "      <td>-6.7297660+0.6792090j</td>\n",
       "      <td>0.887548+0.452995j</td>\n",
       "      <td>3.352743e-02</td>\n",
       "    </tr>\n",
       "    <tr>\n",
       "      <th>11</th>\n",
       "      <td>0.887548+0.452995j</td>\n",
       "      <td>2.371416e-02-7.549087e-04j</td>\n",
       "      <td>-6.2084430+1.9874320j</td>\n",
       "      <td>0.891048+0.453994j</td>\n",
       "      <td>3.639659e-03</td>\n",
       "    </tr>\n",
       "    <tr>\n",
       "      <th>12</th>\n",
       "      <td>0.891048+0.453994j</td>\n",
       "      <td>-2.693226e-04+6.226123e-05j</td>\n",
       "      <td>-6.3417180+2.0612390j</td>\n",
       "      <td>0.891007+0.453990j</td>\n",
       "      <td>4.145375e-05</td>\n",
       "    </tr>\n",
       "    <tr>\n",
       "      <th>13</th>\n",
       "      <td>0.891007+0.453990j</td>\n",
       "      <td>-2.971148e-08+2.082374e-08j</td>\n",
       "      <td>-6.3403770+2.0601130j</td>\n",
       "      <td>0.891007+0.453990j</td>\n",
       "      <td>5.442334e-09</td>\n",
       "    </tr>\n",
       "    <tr>\n",
       "      <th>14</th>\n",
       "      <td>0.891007+0.453990j</td>\n",
       "      <td>-1.110223e-16+8.326673e-16j</td>\n",
       "      <td>-6.3403770+2.0601130j</td>\n",
       "      <td>0.891007+0.453990j</td>\n",
       "      <td>1.110223e-16</td>\n",
       "    </tr>\n",
       "  </tbody>\n",
       "</table>\n",
       "</div>"
      ],
      "text/plain": [
       "                   z_n                      f(z_n)                df(z_n)  \\\n",
       "0   2.000000+2.000000j  1.025366e+03-1.023634e+03j  0.144338-3584.083333j   \n",
       "1   1.714383+1.713923j  3.488564e+02-3.478650e+02j -0.984324-1420.736040j   \n",
       "2   1.469705+1.468207j  1.188837e+02-1.181638e+02j  -1.543747-562.752908j   \n",
       "3   1.260311+1.256379j  4.069726e+01-4.008780e+01j  -1.887641-222.429122j   \n",
       "4   1.081649+1.071895j  1.410663e+01-1.355010e+01j -2.153414-087.3817440j   \n",
       "5   0.930652+0.906737j  5.055927e+00-4.527299e+00j -2.384081-033.7201230j   \n",
       "6   0.807607+0.748100j  1.970461e+00-1.448009e+00j -2.558313-012.2818850j   \n",
       "7   0.726641+0.570798j  9.205619e-01-3.599735e-01j  -2.5466620-3.4344270j   \n",
       "8   0.787254+0.347704j  6.016138e-01+2.112604e-01j  -1.9164760+1.6117800j   \n",
       "9   0.916820+0.566905j -2.465603e-01-9.457203e-01j -10.5057550-2.0930530j   \n",
       "10  0.876997+0.484819j  4.938838e-02-2.213347e-01j  -6.7297660+0.6792090j   \n",
       "11  0.887548+0.452995j  2.371416e-02-7.549087e-04j  -6.2084430+1.9874320j   \n",
       "12  0.891048+0.453994j -2.693226e-04+6.226123e-05j  -6.3417180+2.0612390j   \n",
       "13  0.891007+0.453990j -2.971148e-08+2.082374e-08j  -6.3403770+2.0601130j   \n",
       "14  0.891007+0.453990j -1.110223e-16+8.326673e-16j  -6.3403770+2.0601130j   \n",
       "\n",
       "               z_(n+1)         Error  \n",
       "0   1.714383+1.713923j  4.042491e-01  \n",
       "1   1.469705+1.468207j  3.467617e-01  \n",
       "2   1.260311+1.256379j  2.978538e-01  \n",
       "3   1.081649+1.071895j  2.568154e-01  \n",
       "4   0.930652+0.906737j  2.237800e-01  \n",
       "5   0.807607+0.748100j  2.007634e-01  \n",
       "6   0.726641+0.570798j  1.949137e-01  \n",
       "7   0.787254+0.347704j  2.311816e-01  \n",
       "8   0.916820+0.566905j  2.546298e-01  \n",
       "9   0.876997+0.484819j  9.123526e-02  \n",
       "10  0.887548+0.452995j  3.352743e-02  \n",
       "11  0.891048+0.453994j  3.639659e-03  \n",
       "12  0.891007+0.453990j  4.145375e-05  \n",
       "13  0.891007+0.453990j  5.442334e-09  \n",
       "14  0.891007+0.453990j  1.110223e-16  "
      ]
     },
     "metadata": {},
     "output_type": "display_data"
    }
   ],
   "source": [
    "if result:\n",
    "    df = pd.DataFrame(table)\n",
    "    display(df)"
   ]
  },
  {
   "cell_type": "markdown",
   "metadata": {},
   "source": [
    "### Función que mostrará el fractal generado por el Método de Newton"
   ]
  },
  {
   "cell_type": "markdown",
   "metadata": {},
   "source": [
    "Se procede a mostrar la derivada de la función $f'$"
   ]
  },
  {
   "cell_type": "code",
   "execution_count": 32,
   "metadata": {},
   "outputs": [],
   "source": [
    "import numpy as np\n",
    "import matplotlib.pyplot as plt"
   ]
  },
  {
   "cell_type": "markdown",
   "metadata": {},
   "source": [
    "Se crea una función que será la encarga de iterar el Método de Newton para pintar el fractal "
   ]
  },
  {
   "cell_type": "code",
   "execution_count": 33,
   "metadata": {},
   "outputs": [],
   "source": [
    "def newton_fractal(z0, f, fprime, Nmax=1000):\n",
    "    z = z0\n",
    "    for i in range(Nmax):\n",
    "        dz = f(z) / fprime(z)\n",
    "        if abs(dz) < TOL:\n",
    "            return z\n",
    "        z -= dz\n",
    "    return False"
   ]
  },
  {
   "cell_type": "markdown",
   "metadata": {},
   "source": [
    "Se define el dominio para el fractal"
   ]
  },
  {
   "cell_type": "code",
   "execution_count": 34,
   "metadata": {},
   "outputs": [],
   "source": [
    "dom = 10"
   ]
  },
  {
   "cell_type": "markdown",
   "metadata": {},
   "source": [
    "Se crea un arreglo con los posibles esquemas de colores a implementar en el fractal"
   ]
  },
  {
   "cell_type": "code",
   "execution_count": 35,
   "metadata": {},
   "outputs": [],
   "source": [
    "colormaps = [\"binary\", \"viridis\", \"plasma\", \"inferno\", \"magma\", \"cividis\", \"Wistia\"]"
   ]
  },
  {
   "cell_type": "markdown",
   "metadata": {},
   "source": [
    "Posteriormente se crea la función que llevará a cabo la creación del fractal, necesita recibir la función $f$, el esquema de colores con el que se va a mapear el fractal, la derivada de la función $f'$, un número $n$ de iteraciones, y el dominio $dom$ del fractal."
   ]
  },
  {
   "cell_type": "code",
   "execution_count": 36,
   "metadata": {},
   "outputs": [],
   "source": [
    "def plot_newton_fractal(f, cmap, fprime, n=200, domain=(-dom, dom, -dom, dom), ):\n",
    "    roots = []\n",
    "    m = np.zeros((n, n))\n",
    "\n",
    "    def get_root_index(roots, r):\n",
    "\n",
    "        try:\n",
    "            return np.where(np.isclose(roots, r, atol=TOL))[0][0]\n",
    "        except IndexError:\n",
    "            roots.append(r)\n",
    "            return len(roots) - 1\n",
    "\n",
    "    xmin, xmax, ymin, ymax = domain\n",
    "    for ix, x in enumerate(np.linspace(xmin, xmax, n)):\n",
    "        for iy, y in enumerate(np.linspace(ymin, ymax, n)):\n",
    "            z0 = x + y * 1j\n",
    "            r = newton_fractal(z0, f, fprime)\n",
    "            if r:\n",
    "                ir = get_root_index(roots, r)\n",
    "                m[iy, ix] = ir\n",
    "    plt.imshow(m, cmap=cmap, origin='lower')\n",
    "    plt.axis('off')\n",
    "    plt.show()"
   ]
  },
  {
   "cell_type": "markdown",
   "metadata": {},
   "source": [
    "Se procede a llamar a la función brindandole los argumentos necesarios para su ejecución y se espera el fractal generado para $f$"
   ]
  },
  {
   "cell_type": "code",
   "execution_count": 37,
   "metadata": {},
   "outputs": [
    {
     "data": {
      "image/png": "[encoded data removed]",
      "text/plain": [
       "<Figure size 432x288 with 1 Axes>"
      ]
     },
     "metadata": {
      "needs_background": "light"
     },
     "output_type": "display_data"
    }
   ],
   "source": [
    "plot_newton_fractal(f, 'viridis', fprime, n=1000)"
   ]
  },
  {
   "cell_type": "markdown",
   "metadata": {},
   "source": [
    "### Graficando la raíz en coordenadas Polares"
   ]
  },
  {
   "cell_type": "markdown",
   "metadata": {},
   "source": [
    "Importanto libreria necesaria"
   ]
  },
  {
   "cell_type": "code",
   "execution_count": 38,
   "metadata": {},
   "outputs": [],
   "source": [
    "import cmath"
   ]
  },
  {
   "cell_type": "markdown",
   "metadata": {},
   "source": [
    "Convirtiendo de forma binómica a polar, crearemos variables para la magnitud y ángulo de nuestra raíz, para posteriormente mostrar la gráfica con dichos valores"
   ]
  },
  {
   "cell_type": "code",
   "execution_count": 39,
   "metadata": {},
   "outputs": [
    {
     "name": "stdout",
     "output_type": "stream",
     "text": [
      "Magnitud:  1.0\n",
      "Angulo:  26.999999999999993\n"
     ]
    },
    {
     "data": {
      "text/plain": [
       "[<matplotlib.lines.Line2D at 0x238e7527a00>]"
      ]
     },
     "execution_count": 39,
     "metadata": {},
     "output_type": "execute_result"
    },
    {
     "data": {
      "image/png": "[encoded data removed]",
      "text/plain": [
       "<Figure size 432x288 with 1 Axes>"
      ]
     },
     "metadata": {
      "needs_background": "light"
     },
     "output_type": "display_data"
    }
   ],
   "source": [
    "magnitud, angulo = cmath.polar(root)\n",
    "\n",
    "print(\"Magnitud: \", magnitud)\n",
    "print(\"Angulo: \", angulo*180/cmath.pi)\n",
    "\n",
    "plt.polar([0, angulo], [0,magnitud], marker=\"o\")"
   ]
  },
  {
   "cell_type": "markdown",
   "metadata": {},
   "source": [
    "# Metodo de la secante"
   ]
  },
  {
   "cell_type": "markdown",
   "metadata": {},
   "source": [
    "Este método es una variación del método de Newton-Raphson, pero a diferencia de Newton el método de la secante no calcula la derivada de la función asignada al punto de estudio, sino que esta se aproxima a la pendiente recta que une la función que está siendo evaluada en el punto de estudio, y el de la iteración previa.Este método es útil cuando el coste computacional de\n",
    "realizar la derivación es demasiado alto, haciendo el método de Newton-Raphson no tan recomendado. El método de la secante parte de dos puntos y estima la tangente por aproximación de acuerdo a la fórmula:\n",
    " \n",
    "$f^′(x_0) = \\frac{f(x_1) − f(x_0)}{x_1 − x_0}$\n",
    " \n",
    "La anterior aproximación se sustituye en Newton-Raphson para la siguiente ecuación iterativa:\n",
    " \n",
    "$x_{i+1} =x_{i-1}-\\frac{f(x_{i-1})(x_i − x_{i-1})}{f(x_i) − f(x_{i-1})}$"
   ]
  },
  {
   "cell_type": "markdown",
   "metadata": {},
   "source": [
    "### Implementacion "
   ]
  },
  {
   "cell_type": "markdown",
   "metadata": {},
   "source": [
    "Se desea encontrar la raíz de la siguiente función:\n",
    " \n",
    " $\\frac{1}{\\sqrt{x}} - 5x = 0$\n",
    " \n",
    "en el rango de $[0.1,2]$ con una tolerancia de 0.0001.\n",
    " \n",
    "Para abordar este problema se creará un código que funcionará con el algoritmo del método de la secante."
   ]
  },
  {
   "cell_type": "markdown",
   "metadata": {},
   "source": [
    "#### Librerias\n",
    "Primero se importan todas las librerias que se necesitara para la resolucion del problema"
   ]
  },
  {
   "cell_type": "code",
   "execution_count": 40,
   "metadata": {},
   "outputs": [],
   "source": [
    "%matplotlib inline\n",
    "import matplotlib.pyplot as plt\n",
    "import numpy as np\n",
    "import pandas as pd"
   ]
  },
  {
   "cell_type": "markdown",
   "metadata": {},
   "source": [
    "#### Cálculo del error absoluto\n",
    " \n",
    "Para que el algoritmo sepa cuando debe de parar, se debe comparar nuestra **tolerancia** con el **error absoluto** que se obtenga de cada iteración. Para ello se crea una función que devolvera el **error absoluto** dado dos valores."
   ]
  },
  {
   "cell_type": "code",
   "execution_count": 41,
   "metadata": {},
   "outputs": [],
   "source": [
    "def err_abs(x2, x1):\n",
    "    return abs(x2 - x1)"
   ]
  },
  {
   "cell_type": "markdown",
   "metadata": {},
   "source": [
    "#### Cálculo de $x_{i+1}$\n",
    " \n",
    "Para el calculo de la aproximacion $x_{i+1}$, se realizara por medio las siguientes funciones:"
   ]
  },
  {
   "cell_type": "code",
   "execution_count": 42,
   "metadata": {},
   "outputs": [],
   "source": [
    "def Pendiente(x1,x2,f):\n",
    "    #Se confirma que no sean los mismos puntos\n",
    "    if(x1==x2):\n",
    "        return 'Ingrese dos puntos distintos'\n",
    "    else:\n",
    "        #Se realiza el calculo de la pendiente\n",
    "        m = (f(x2)-f(x1))/(x2-x1)\n",
    "        return m"
   ]
  },
  {
   "cell_type": "markdown",
   "metadata": {},
   "source": [
    "Con esta primera función se obtendrá la pendiente de la línea formada entre los puntos $(x_1,f(x_1))$ y $(x_2,f(x_2))$, la cual será utilizada en la siguiente función para encontrar el valor de $x_{i+1}$."
   ]
  },
  {
   "cell_type": "code",
   "execution_count": 43,
   "metadata": {},
   "outputs": [],
   "source": [
    "def CorteEjex(x1,x2,f):\n",
    "    # Se obtiene la pendiente para x1 y x2\n",
    "    m = Pendiente(x1,x2,f)\n",
    "    # Se realiza el calculo de xc\n",
    "    x= x1 -(1/m)*f(x1)\n",
    "    return x"
   ]
  },
  {
   "cell_type": "markdown",
   "metadata": {},
   "source": [
    "Haciendo uso de la función **Pendiente**, se realizan los cálculos necesarios para encontrar el valor de $x$ donde nuestra línea recta corta con el eje de las $x$, y este valor que obtengamos vendrá a ser nuestro $x_{i+1}$."
   ]
  },
  {
   "cell_type": "markdown",
   "metadata": {},
   "source": [
    "#### Secante\n",
    "\n",
    "La última función que necesitaremos es una que se encargue de realizar el algoritmo del método de la secante, donde los valores recibidos son los puntos iniciales $a$, $b$; la función de la cual deseamos encontrar la raíz, y la tolerancia mínima que deseamos que tenga nuestra respuesta."
   ]
  },
  {
   "cell_type": "code",
   "execution_count": 44,
   "metadata": {},
   "outputs": [],
   "source": [
    "def secante(fx,xa,xb,tolera):\n",
    "    try:\n",
    "        # Tabla que poseera la informacion de cada iteracion \n",
    "        tabla = []\n",
    "\n",
    "        # Calculo del erro absoluto inicial\n",
    "        tramo = err_abs(xa,xb)\n",
    "\n",
    "        # Confirmamos que el intervalo a evaluar sea valido\n",
    "        if(tramo<=tolera):\n",
    "            return tabla\n",
    "\n",
    "        # Se confirma que se cumpla la tolerancia antes de entrar a una iteracion\n",
    "        while (tramo>=tolera):\n",
    "\n",
    "            xc = CorteEjex(xa,xb,fx)\n",
    "            fc= fx(xc)\n",
    "\n",
    "            # Si fc es 0 el procedimiento termina pues se a encontrado la raiz\n",
    "            if(fc==0):\n",
    "                return tabla\n",
    "\n",
    "            # Se calcula el error en funcion de xc y xa\n",
    "            tramo = err_abs(xc,xa)\n",
    "            \n",
    "            # Se agrega la informacion de la iteracion actual a tabla\n",
    "            tabla.append([xa,xb,xc,tramo])\n",
    "\n",
    "            #Se intercambian los valores de xa, xb y xc\n",
    "            xb = xa\n",
    "            xa = xc\n",
    "        \n",
    "        tabla = np.array(tabla)\n",
    "        return tabla\n",
    "    except ZeroDivisionError:\n",
    "        return []\n"
   ]
  },
  {
   "cell_type": "markdown",
   "metadata": {},
   "source": [
    "Podemos observar que antes de empezar con cualquier iteración se confirma la validez del intervalo enviado, pues si el error absoluto entre los valores iniciales es menor o igual a la tolerancia, significa que los puntos pueden ser iguales o estar excesivamente cerca, y esta clase de intervalos pueden afectar el proceso del algoritmo, provocando respuestas incorrectas o que nuestra función se rompa.\n",
    " \n",
    "Una vez confirmado que los puntos iniciales sean válidos, se procede a entrar a la primera iteración donde se hace la llamada a nuestra función **CorteEjex** que nos devolverá nuestra primera aproximación a la raíz. Se confirma que la función evaluada en este nuevo valor sea 0, pues de serlo el proceso termina y se devuelve la tabla con los valores de cada iteración; caso contrario se sigue con el proceso normal. Después, se calcula el nuevo error absoluto y se agregan los valores $xa$,$xb$,$xc$y el error absoluto de esta iteración. Finalmente se intercambian los valores de $xb$ con el de $xa$ y $xa$ con el de $xc$.\n",
    " \n",
    "De esta manera termina una iteración y vuelve a comenzar el ciclo while hasta que se cumpla con la tolerancia, en cuyo caso se retornará la tabla que posee todos los valores de nuestro puntos a lo largo de todas las iteraciones y terminará la función.\n",
    " \n",
    "Es importante destacar el uso de un try catch que encierra todo nuestro código, pues al trabajar con funciones irracionales, debemos tener en cuenta que habrá casos en los que ciertos valores rompan nuestro código, principalmente las divisiones entre 0, y de esta manera evitamos que esta clase de errores lleguen a afectar el funcionamiento de nuestro programa."
   ]
  },
  {
   "cell_type": "markdown",
   "metadata": {},
   "source": [
    "Ahora podemos probar el procedimiento con los datos anteriormente pedidos:"
   ]
  },
  {
   "cell_type": "code",
   "execution_count": 45,
   "metadata": {},
   "outputs": [
    {
     "name": "stdout",
     "output_type": "stream",
     "text": [
      "0.3419951892871315\n"
     ]
    }
   ],
   "source": [
    "# INGRESO\n",
    "# Funcion\n",
    "fx = lambda x: 1/x**(1./2.) - 5*x\n",
    "\n",
    "# Puntos iniciales\n",
    "a  = 0.1\n",
    "b  = 2\n",
    "\n",
    "# Tolerancia\n",
    "tolera = 0.0001\n",
    "\n",
    "# PROCEDIMIENTO\n",
    "# Se llama a la funcion secante\n",
    "tabla = secante(fx,a,b,tolera)\n",
    "# Obtenemos el tamaño de la lista\n",
    "n = len(tabla)\n",
    "# Se confirma que tabla no venga vacia\n",
    "if (n==0):\n",
    "    raiz = \"No se encontro raiz para este intervalo\"\n",
    "else:\n",
    "    #Obtenemos el ultimo valor guardado de xc\n",
    "    raiz = tabla[n-1,2]\n",
    "\n",
    "# SALIDA\n",
    "print(raiz)"
   ]
  },
  {
   "cell_type": "markdown",
   "metadata": {},
   "source": [
    "Al finalizar el proceso se obtiene que la raíz para la función $\\frac{1}{\\sqrt{x}}-5x = 0$ en el intervalo de $[0.1,2]$ es 0.3419952686500059."
   ]
  },
  {
   "cell_type": "markdown",
   "metadata": {},
   "source": [
    "#### Tablas"
   ]
  },
  {
   "cell_type": "markdown",
   "metadata": {},
   "source": [
    "Por la manera en la que se realizó el algoritmo no es fácil realizar la implementación de una tabla que muestre el proceso del algoritmo a lo largo de sus iteraciones."
   ]
  },
  {
   "cell_type": "code",
   "execution_count": 46,
   "metadata": {},
   "outputs": [
    {
     "data": {
      "text/html": [
       "<div>\n",
       "<style scoped>\n",
       "    .dataframe tbody tr th:only-of-type {\n",
       "        vertical-align: middle;\n",
       "    }\n",
       "\n",
       "    .dataframe tbody tr th {\n",
       "        vertical-align: top;\n",
       "    }\n",
       "\n",
       "    .dataframe thead th {\n",
       "        text-align: right;\n",
       "    }\n",
       "</style>\n",
       "<table border=\"1\" class=\"dataframe\">\n",
       "  <thead>\n",
       "    <tr style=\"text-align: right;\">\n",
       "      <th></th>\n",
       "      <th>x_a</th>\n",
       "      <th>x_b</th>\n",
       "      <th>x_c</th>\n",
       "      <th>err</th>\n",
       "    </tr>\n",
       "  </thead>\n",
       "  <tbody>\n",
       "    <tr>\n",
       "      <th>0</th>\n",
       "      <td>0.10000</td>\n",
       "      <td>2.00000</td>\n",
       "      <td>0.52311</td>\n",
       "      <td>4.23108e-01</td>\n",
       "    </tr>\n",
       "    <tr>\n",
       "      <th>1</th>\n",
       "      <td>0.52311</td>\n",
       "      <td>0.10000</td>\n",
       "      <td>0.38918</td>\n",
       "      <td>1.33923e-01</td>\n",
       "    </tr>\n",
       "    <tr>\n",
       "      <th>2</th>\n",
       "      <td>0.38918</td>\n",
       "      <td>0.52311</td>\n",
       "      <td>0.33757</td>\n",
       "      <td>5.16111e-02</td>\n",
       "    </tr>\n",
       "    <tr>\n",
       "      <th>3</th>\n",
       "      <td>0.33757</td>\n",
       "      <td>0.38918</td>\n",
       "      <td>0.34214</td>\n",
       "      <td>4.56372e-03</td>\n",
       "    </tr>\n",
       "    <tr>\n",
       "      <th>4</th>\n",
       "      <td>0.34214</td>\n",
       "      <td>0.33757</td>\n",
       "      <td>0.34200</td>\n",
       "      <td>1.41874e-04</td>\n",
       "    </tr>\n",
       "    <tr>\n",
       "      <th>5</th>\n",
       "      <td>0.34200</td>\n",
       "      <td>0.34214</td>\n",
       "      <td>0.34200</td>\n",
       "      <td>4.63477e-07</td>\n",
       "    </tr>\n",
       "  </tbody>\n",
       "</table>\n",
       "</div>"
      ],
      "text/plain": [
       "       x_a      x_b      x_c          err\n",
       "0  0.10000  2.00000  0.52311  4.23108e-01\n",
       "1  0.52311  0.10000  0.38918  1.33923e-01\n",
       "2  0.38918  0.52311  0.33757  5.16111e-02\n",
       "3  0.33757  0.38918  0.34214  4.56372e-03\n",
       "4  0.34214  0.33757  0.34200  1.41874e-04\n",
       "5  0.34200  0.34214  0.34200  4.63477e-07"
      ]
     },
     "metadata": {},
     "output_type": "display_data"
    }
   ],
   "source": [
    "# Se confirma que la funcion secante no haya devuelto una lista vacia\n",
    "if not(n==0):\n",
    "    # Listas que contendran los valores de las iteraciones\n",
    "    ListXa = []\n",
    "    ListXb = []\n",
    "    ListXc = []\n",
    "    ListErr = []\n",
    "\n",
    "    np.set_printoptions(precision=4)\n",
    "    for i in range(0,n,1):\n",
    "        # Se guardan los valores de las iteraciones en su lista correspondiente\n",
    "        ListXa.append(tabla[i,0])\n",
    "        ListXb.append(tabla[i,1])\n",
    "        ListXc.append(tabla[i,2])\n",
    "        ListErr.append(tabla[i,3])\n",
    "\n",
    "    # Objeto Json que servira como fuente de datos para la tabla\n",
    "    Table ={\n",
    "        \"x_a\": ListXa,\n",
    "        \"x_b\": ListXb,\n",
    "        \"x_c\": ListXc,\n",
    "        \"err\": ListErr\n",
    "    }\n",
    "\n",
    "    df = pd.DataFrame(Table)\n",
    "    pd.set_option(\"display.precision\",5)\n",
    "    display(df)\n"
   ]
  },
  {
   "cell_type": "markdown",
   "metadata": {},
   "source": [
    "Con este código, ahora somos capaces de crear y mostrar tablas con los datos de cada iteración del método de la secante y de esta manera tener una mejor comprensión del proceso realizado por nuestro código y algoritmo en general."
   ]
  },
  {
   "cell_type": "markdown",
   "metadata": {},
   "source": [
    "#### Gráficos\n"
   ]
  },
  {
   "cell_type": "markdown",
   "metadata": {},
   "source": [
    "Otro recurso que crearemos para la mejor visualización de las iteraciones del método de la secante son los gráficos, en donde mostraremos las distintas rectas que nos ayudan a encontrar la raíz.\n",
    " \n",
    "Para ello haremos uso de las listas creadas en las tablas."
   ]
  },
  {
   "cell_type": "code",
   "execution_count": 47,
   "metadata": {},
   "outputs": [
    {
     "data": {
      "image/png": "[encoded data removed]",
      "text/plain": [
       "<Figure size 432x288 with 1 Axes>"
      ]
     },
     "metadata": {
      "needs_background": "light"
     },
     "output_type": "display_data"
    }
   ],
   "source": [
    "import matplotlib.pyplot as plt\n",
    "\n",
    "def graf():\n",
    "    if not(n==0):\n",
    "        #eje x\n",
    "        dom = np.arange(min(a,raiz)-1, max(b,raiz)+1,10**-5)\n",
    "        range = [0 for xi in dom]\n",
    "        plt.plot(dom, range)\n",
    "\n",
    "        #eje y\n",
    "        range = np.arange(min(fx(a),fx(b))-5,max(fx(a),fx(b))+5,10**-5)\n",
    "        dom = [0.1 for xi in range]\n",
    "        plt.plot(dom, range)\n",
    "\n",
    "        plt.axis([min(a,raiz)-1, max(b,raiz)+1,min(fx(a),fx(b))-5,max(fx(a),fx(b))+5])\n",
    "\n",
    "        #Funcion\n",
    "        dom = np.arange(0.1,5,10**-5)\n",
    "        range = [fx(xi) for xi in dom]\n",
    "        plt.plot(dom, range, 'r')\n",
    "\n",
    "        i=0\n",
    "        #Dibujado de los puntos\n",
    "        while not(i==n):\n",
    "            #Se obtiene los puntos de la iteracion\n",
    "            p1=ListXa[i]\n",
    "            p2=ListXb[i]\n",
    "\n",
    "\n",
    "            #Puntos (a,0) y (b,0)\n",
    "            plt.plot(p1,0,'ro')\n",
    "            plt.plot(p2,0,'ro')\n",
    "\n",
    "            #Puntos (a,f(a)) y (b,f(b))\n",
    "            plt.plot(p1,fx(p1),'ro')\n",
    "            plt.plot(p2,fx(p2),'ro')\n",
    "\n",
    "            #Linea entre los puntos (a,f(a)) y (b,f(b))\n",
    "            plt.plot([p1,p2],[fx(p1),fx(p2)])\n",
    "            i=i+1\n",
    "\n",
    "        #raiz\n",
    "        plt.plot(raiz,0,'bo')\n",
    "        plt.show()\n",
    "\n",
    "graf()"
   ]
  },
  {
   "cell_type": "markdown",
   "metadata": {},
   "source": [
    "Haciendo uso de las listas, se dibujan todos los puntos y las líneas rectas entre los mismos que nos ayudan a encontrar la raíz de la función. También podemos observar el resultado final (la raíz) representada por el punto azul."
   ]
  }
 ],
 "metadata": {
  "kernelspec": {
   "display_name": "Python 3 (ipykernel)",
   "language": "python",
   "name": "python3"
  },
  "language_info": {
   "codemirror_mode": {
    "name": "ipython",
    "version": 3
   },
   "file_extension": ".py",
   "mimetype": "text/x-python",
   "name": "python",
   "nbconvert_exporter": "python",
   "pygments_lexer": "ipython3",
   "version": "3.9.7"
  },
  "vscode": {
   "interpreter": {
    "hash": "5ae58900cfbb8c43ab3495913814b7cf26024f51651a94ce8bf64d6111688e8d"
   }
  }
 },
 "nbformat": 4,
 "nbformat_minor": 2
}
